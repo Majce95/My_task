{
 "cells": [
  {
   "cell_type": "markdown",
   "id": "523c0c99-2c09-4192-a015-ed1a12c118d8",
   "metadata": {},
   "source": [
    "# Data Science Final Project\n"
   ]
  },
  {
   "cell_type": "markdown",
   "id": "d2693fb7-9668-4780-ad12-bbc3bd40bf43",
   "metadata": {},
   "source": [
    "## Introduction\n",
    "This notebook demonstrates the various exercises required for the final project in Data Science.\n",
    "It will cover different aspects of data science including languages, libraries, tools, and arithmetic operations.\n"
   ]
  },
  {
   "cell_type": "markdown",
   "id": "019b1f50-4812-4f7c-90ac-af140509ab5c",
   "metadata": {},
   "source": [
    "## Data Science Languages\n",
    "Data Science relies on a variety of programming languages. Some of the most common languages used are:\n",
    "\n",
    "- Python\n",
    "- R\n",
    "- SQL\n",
    "- Julia\n",
    "- Java\n"
   ]
  },
  {
   "cell_type": "markdown",
   "id": "d166c13f-07fc-48ae-8b71-b6ffba57732b",
   "metadata": {},
   "source": [
    "## Data Science Libraries\n",
    "Data Science involves using a variety of libraries to work with data efficiently. Some of the most commonly used libraries include:\n",
    "\n",
    "- Pandas\n",
    "- NumPy\n",
    "- Matplotlib\n",
    "- Scikit-learn\n",
    "- TensorFlow\n"
   ]
  },
  {
   "cell_type": "markdown",
   "id": "e55d8d74-6cdf-464d-a5e0-97beefb365fb",
   "metadata": {},
   "source": [
    "## Data Science Tools\n",
    "Data science involves using a wide range of tools to analyze data. Here are some of the common tools used in data science:\n",
    "\n",
    "| Tool        | Description                |\n",
    "|-------------|----------------------------|\n",
    "| Jupyter     | Open-source web application |\n",
    "| GitHub      | Version control system      |\n",
    "| Anaconda    | Python distribution         |\n",
    "| Spyder      | IDE for Python              |\n",
    "| Tableau     | Data visualization tool     |\n"
   ]
  },
  {
   "cell_type": "markdown",
   "id": "8f162a31-8008-42fa-b5ff-9a07de0badf1",
   "metadata": {},
   "source": [
    "## Arithmetic Expression Examples\n",
    "In this section, we will demonstrate how arithmetic expressions are used in Python.\n"
   ]
  },
  {
   "cell_type": "code",
   "execution_count": 1,
   "id": "b10ebfc8-35df-472e-b3cf-08e00b68512a",
   "metadata": {},
   "outputs": [
    {
     "data": {
      "text/plain": [
       "65"
      ]
     },
     "execution_count": 1,
     "metadata": {},
     "output_type": "execute_result"
    }
   ],
   "source": [
    "a = 5\n",
    "b = 10\n",
    "result = a * b + 15\n",
    "result"
   ]
  },
  {
   "cell_type": "code",
   "execution_count": 2,
   "id": "fb7431f8-18bc-42d6-aff5-af78fc286dfc",
   "metadata": {},
   "outputs": [
    {
     "data": {
      "text/plain": [
       "2.0"
      ]
     },
     "execution_count": 2,
     "metadata": {},
     "output_type": "execute_result"
    }
   ],
   "source": [
    "minutes = 120\n",
    "hours = minutes / 60\n",
    "hours"
   ]
  },
  {
   "cell_type": "markdown",
   "id": "66105465-e1b6-4fbc-b683-74f985c33faf",
   "metadata": {},
   "source": [
    "## Objectives\n",
    "- Demonstrate the use of Markdown in Jupyter Notebooks.\n",
    "- Show how to perform arithmetic operations in Python.\n",
    "- Create a table of Data Science tools.\n",
    "- Convert time units using Python.\n"
   ]
  },
  {
   "cell_type": "markdown",
   "id": "eaa748d3-bbdc-4b1d-83fd-b39fda858df5",
   "metadata": {},
   "source": [
    "## Author\n",
    "This notebook was created by Marija Radojkovic.\n"
   ]
  },
  {
   "cell_type": "code",
   "execution_count": null,
   "id": "6dd1fa8f-aa18-4188-a851-6e6297173018",
   "metadata": {},
   "outputs": [],
   "source": []
  },
  {
   "cell_type": "code",
   "execution_count": null,
   "id": "0a07d27a-6fca-43c2-98dd-fdaa7b8ee41a",
   "metadata": {},
   "outputs": [],
   "source": []
  },
  {
   "cell_type": "code",
   "execution_count": null,
   "id": "c1f12e45-0db7-4dcd-8fc4-79f6d3d05572",
   "metadata": {},
   "outputs": [],
   "source": []
  }
 ],
 "metadata": {
  "kernelspec": {
   "display_name": "Python 3 (ipykernel)",
   "language": "python",
   "name": "python3"
  },
  "language_info": {
   "codemirror_mode": {
    "name": "ipython",
    "version": 3
   },
   "file_extension": ".py",
   "mimetype": "text/x-python",
   "name": "python",
   "nbconvert_exporter": "python",
   "pygments_lexer": "ipython3",
   "version": "3.12.9"
  }
 },
 "nbformat": 4,
 "nbformat_minor": 5
}
